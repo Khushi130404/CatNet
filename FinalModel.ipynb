{
 "cells": [
  {
   "cell_type": "code",
   "execution_count": 9,
   "id": "dd2585d3",
   "metadata": {},
   "outputs": [
    {
     "name": "stdout",
     "output_type": "stream",
     "text": [
      "The autoreload extension is already loaded. To reload it, use:\n",
      "  %reload_ext autoreload\n"
     ]
    }
   ],
   "source": [
    "import numpy as np\n",
    "import copy\n",
    "import matplotlib.pyplot as plt\n",
    "import h5py\n",
    "import scipy\n",
    "from PIL import Image\n",
    "from scipy import ndimage\n",
    "from load_data import load_dataset\n",
    "from public_test import *\n",
    "\n",
    "%matplotlib inline\n",
    "%load_ext autoreload\n",
    "%autoreload 2"
   ]
  },
  {
   "cell_type": "code",
   "execution_count": 10,
   "id": "9971ec31",
   "metadata": {},
   "outputs": [
    {
     "name": "stdout",
     "output_type": "stream",
     "text": [
      "Requirement already satisfied: import-ipynb in c:\\users\\khushi\\anaconda3\\lib\\site-packages (0.1.4)\n",
      "Requirement already satisfied: IPython in c:\\users\\khushi\\anaconda3\\lib\\site-packages (from import-ipynb) (8.12.0)\n",
      "Requirement already satisfied: nbformat in c:\\users\\khushi\\anaconda3\\lib\\site-packages (from import-ipynb) (5.7.0)\n",
      "Requirement already satisfied: backcall in c:\\users\\khushi\\anaconda3\\lib\\site-packages (from IPython->import-ipynb) (0.2.0)\n",
      "Requirement already satisfied: decorator in c:\\users\\khushi\\anaconda3\\lib\\site-packages (from IPython->import-ipynb) (5.1.1)\n",
      "Requirement already satisfied: jedi>=0.16 in c:\\users\\khushi\\anaconda3\\lib\\site-packages (from IPython->import-ipynb) (0.18.1)\n",
      "Requirement already satisfied: matplotlib-inline in c:\\users\\khushi\\anaconda3\\lib\\site-packages (from IPython->import-ipynb) (0.1.6)\n",
      "Requirement already satisfied: pickleshare in c:\\users\\khushi\\anaconda3\\lib\\site-packages (from IPython->import-ipynb) (0.7.5)\n",
      "Requirement already satisfied: prompt-toolkit!=3.0.37,<3.1.0,>=3.0.30 in c:\\users\\khushi\\anaconda3\\lib\\site-packages (from IPython->import-ipynb) (3.0.36)\n",
      "Requirement already satisfied: pygments>=2.4.0 in c:\\users\\khushi\\anaconda3\\lib\\site-packages (from IPython->import-ipynb) (2.15.1)\n",
      "Requirement already satisfied: stack-data in c:\\users\\khushi\\anaconda3\\lib\\site-packages (from IPython->import-ipynb) (0.2.0)\n",
      "Requirement already satisfied: traitlets>=5 in c:\\users\\khushi\\anaconda3\\lib\\site-packages (from IPython->import-ipynb) (5.7.1)\n",
      "Requirement already satisfied: colorama in c:\\users\\khushi\\anaconda3\\lib\\site-packages (from IPython->import-ipynb) (0.4.6)\n",
      "Requirement already satisfied: fastjsonschema in c:\\users\\khushi\\anaconda3\\lib\\site-packages (from nbformat->import-ipynb) (2.16.2)\n",
      "Requirement already satisfied: jsonschema>=2.6 in c:\\users\\khushi\\anaconda3\\lib\\site-packages (from nbformat->import-ipynb) (4.17.3)\n",
      "Requirement already satisfied: jupyter-core in c:\\users\\khushi\\anaconda3\\lib\\site-packages (from nbformat->import-ipynb) (5.3.0)\n",
      "Requirement already satisfied: parso<0.9.0,>=0.8.0 in c:\\users\\khushi\\anaconda3\\lib\\site-packages (from jedi>=0.16->IPython->import-ipynb) (0.8.3)\n",
      "Requirement already satisfied: attrs>=17.4.0 in c:\\users\\khushi\\anaconda3\\lib\\site-packages (from jsonschema>=2.6->nbformat->import-ipynb) (22.1.0)\n",
      "Requirement already satisfied: pyrsistent!=0.17.0,!=0.17.1,!=0.17.2,>=0.14.0 in c:\\users\\khushi\\anaconda3\\lib\\site-packages (from jsonschema>=2.6->nbformat->import-ipynb) (0.18.0)\n",
      "Requirement already satisfied: wcwidth in c:\\users\\khushi\\anaconda3\\lib\\site-packages (from prompt-toolkit!=3.0.37,<3.1.0,>=3.0.30->IPython->import-ipynb) (0.2.5)\n",
      "Requirement already satisfied: platformdirs>=2.5 in c:\\users\\khushi\\anaconda3\\lib\\site-packages (from jupyter-core->nbformat->import-ipynb) (2.5.2)\n",
      "Requirement already satisfied: pywin32>=300 in c:\\users\\khushi\\anaconda3\\lib\\site-packages (from jupyter-core->nbformat->import-ipynb) (305.1)\n",
      "Requirement already satisfied: executing in c:\\users\\khushi\\anaconda3\\lib\\site-packages (from stack-data->IPython->import-ipynb) (0.8.3)\n",
      "Requirement already satisfied: asttokens in c:\\users\\khushi\\anaconda3\\lib\\site-packages (from stack-data->IPython->import-ipynb) (2.0.5)\n",
      "Requirement already satisfied: pure-eval in c:\\users\\khushi\\anaconda3\\lib\\site-packages (from stack-data->IPython->import-ipynb) (0.2.2)\n",
      "Requirement already satisfied: six in c:\\users\\khushi\\anaconda3\\lib\\site-packages (from asttokens->stack-data->IPython->import-ipynb) (1.16.0)\n"
     ]
    }
   ],
   "source": [
    "!pip install import-ipynb"
   ]
  },
  {
   "cell_type": "code",
   "execution_count": 12,
   "id": "4a7e1f14",
   "metadata": {},
   "outputs": [],
   "source": [
    "import import_ipynb\n",
    "import CatOrNot"
   ]
  },
  {
   "cell_type": "code",
   "execution_count": 13,
   "id": "7b40b25f",
   "metadata": {},
   "outputs": [],
   "source": [
    "def model(X_train, Y_train, X_test, Y_test, num_iterations=2000, learning_rate=0.5, print_cost=False) :\n",
    "    \n",
    "    W,b = CatOrNot.initialize_with_zeros(X_train.shape[0])\n",
    "    params, grads, costs = CatOrNot.optimize(W, b, X_train, Y_train,num_iterations, learning_rate, print_cost)\n",
    "    W = params[\"w\"]\n",
    "    b = params[\"b\"]\n",
    "    Y_prediction_train = CatOrNot.predict(W,b,X_train)\n",
    "    Y_prediction_test = CatOrNot.predict(W,b,X_test)\n",
    "    \n",
    "    if print_cost:\n",
    "        print(\"train accuracy: {} %\".format(100 - np.mean(np.abs(Y_prediction_train - Y_train)) * 100))\n",
    "        print(\"test accuracy: {} %\".format(100 - np.mean(np.abs(Y_prediction_test - Y_test)) * 100))\n",
    "        \n",
    "    d = {\"costs\" : costs,\n",
    "         \"Y_prediction_test\" : Y_prediction_test,\n",
    "        \"Y_prediction_train\" : Y_prediction_train,\n",
    "        \"w\" : W,\n",
    "        \"b\" : b,\n",
    "        \"learning_rate\" : learning_rate,\n",
    "        \"num_iterations\" : num_iterations};\n",
    "    \n",
    "    return d"
   ]
  },
  {
   "cell_type": "code",
   "execution_count": 14,
   "id": "cd95e88f",
   "metadata": {},
   "outputs": [
    {
     "name": "stdout",
     "output_type": "stream",
     "text": [
      "\u001b[92mAll tests passed!\n"
     ]
    }
   ],
   "source": [
    "from public_test import *\n",
    "\n",
    "model_test(model)"
   ]
  },
  {
   "cell_type": "code",
   "execution_count": null,
   "id": "275d65ba",
   "metadata": {},
   "outputs": [],
   "source": []
  }
 ],
 "metadata": {
  "kernelspec": {
   "display_name": "Python 3 (ipykernel)",
   "language": "python",
   "name": "python3"
  },
  "language_info": {
   "codemirror_mode": {
    "name": "ipython",
    "version": 3
   },
   "file_extension": ".py",
   "mimetype": "text/x-python",
   "name": "python",
   "nbconvert_exporter": "python",
   "pygments_lexer": "ipython3",
   "version": "3.11.4"
  }
 },
 "nbformat": 4,
 "nbformat_minor": 5
}
