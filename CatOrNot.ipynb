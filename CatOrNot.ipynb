{
 "cells": [
  {
   "cell_type": "code",
   "execution_count": 2,
   "id": "7bcad069",
   "metadata": {},
   "outputs": [],
   "source": [
    "import numpy as np\n",
    "import copy\n",
    "import matplotlib.pyplot as plt\n",
    "import h5py\n",
    "import scipy\n",
    "from PIL import Image\n",
    "from scipy import ndimage\n",
    "from load_data import load_dataset\n",
    "from public_test import *\n",
    "\n",
    "%matplotlib inline\n",
    "%load_ext autoreload\n",
    "%autoreload 2"
   ]
  },
  {
   "cell_type": "code",
   "execution_count": 3,
   "id": "c91eb924",
   "metadata": {},
   "outputs": [],
   "source": [
    "# Loading the data (cat/non-cat)\n",
    "train_set_x_orig, train_set_y, test_set_x_orig, test_set_y, classes = load_dataset()"
   ]
  },
  {
   "cell_type": "code",
   "execution_count": 7,
   "id": "7a3d39f1",
   "metadata": {},
   "outputs": [],
   "source": [
    "# Checking the train dataset\n",
    "# index = 2\n",
    "# plt.imshow(train_set_x_orig[index])\n",
    "# print (\"y = \" + str(train_set_y[:, index]) + \", it's a '\" + classes[np.squeeze(train_set_y[:, index])].decode(\"utf-8\") +  \"' picture.\")"
   ]
  },
  {
   "cell_type": "code",
   "execution_count": 9,
   "id": "abf3ae1b",
   "metadata": {},
   "outputs": [],
   "source": [
    "m_train = train_set_x_orig.shape[0]\n",
    "m_test = test_set_x_orig.shape[0]\n",
    "num_px = train_set_x_orig.shape[1]\n",
    "\n",
    "# Checking the shape and size\n",
    "# print (\"Number of training examples: m_train = \" + str(m_train))\n",
    "# print (\"Number of testing examples: m_test = \" + str(m_test))\n",
    "# print (\"Height/Width of each image: num_px = \" + str(num_px))\n",
    "# print (\"Each image is of size: (\" + str(num_px) + \", \" + str(num_px) + \", 3)\")\n",
    "# print (\"train_set_x shape: \" + str(train_set_x_orig.shape))\n",
    "# print (\"train_set_y shape: \" + str(train_set_y.shape))\n",
    "# print (\"test_set_x shape: \" + str(test_set_x_orig.shape))\n",
    "# print (\"test_set_y shape: \" + str(test_set_y.shape))"
   ]
  },
  {
   "cell_type": "code",
   "execution_count": 13,
   "id": "e063b8f8",
   "metadata": {},
   "outputs": [],
   "source": [
    "# Reshape the training and test examples\n",
    "\n",
    "train_set_x_flatten = train_set_x_orig.reshape(train_set_x_orig.shape[0], -1).T\n",
    "test_set_x_flatten = test_set_x_orig.reshape(test_set_x_orig.shape[0], -1).T\n",
    "\n",
    "# print (\"train_set_x_flatten shape: \" + str(train_set_x_flatten.shape))\n",
    "# print (\"train_set_y shape: \" + str(train_set_y.shape))\n",
    "# print (\"test_set_x_flatten shape: \" + str(test_set_x_flatten.shape))\n",
    "# print (\"test_set_y shape: \" + str(test_set_y.shape))"
   ]
  },
  {
   "cell_type": "code",
   "execution_count": null,
   "id": "ad5891f7",
   "metadata": {},
   "outputs": [],
   "source": []
  }
 ],
 "metadata": {
  "kernelspec": {
   "display_name": "Python 3 (ipykernel)",
   "language": "python",
   "name": "python3"
  },
  "language_info": {
   "codemirror_mode": {
    "name": "ipython",
    "version": 3
   },
   "file_extension": ".py",
   "mimetype": "text/x-python",
   "name": "python",
   "nbconvert_exporter": "python",
   "pygments_lexer": "ipython3",
   "version": "3.11.4"
  }
 },
 "nbformat": 4,
 "nbformat_minor": 5
}
